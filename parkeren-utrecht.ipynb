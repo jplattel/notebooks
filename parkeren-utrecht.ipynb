{
 "cells": [
  {
   "cell_type": "code",
   "execution_count": 76,
   "metadata": {
    "button": false,
    "collapsed": false,
    "deletable": true,
    "run_control": {
     "read_only": false
    }
   },
   "outputs": [],
   "source": [
    "# Imports\n",
    "import pandas as pd\n",
    "import numpy as np\n",
    "%matplotlib inline  "
   ]
  },
  {
   "cell_type": "markdown",
   "metadata": {
    "run_control": {}
   },
   "source": [
    "# Parkeren in Utrecht\n",
    "Via een WOB-verzoek van Marc Fonteijn is de data van alle parkeermeters in Utrecht openbaar gemaakt. Dit is een poging van mij om de data te analyseren en om te kijken of we er iets van kunnen leren! :)\n",
    "\n",
    "We starten met het laden van alle data:"
   ]
  },
  {
   "cell_type": "code",
   "execution_count": 77,
   "metadata": {
    "collapsed": false,
    "run_control": {}
   },
   "outputs": [],
   "source": [
    "df = pd.read_csv('totaal.csv')\n",
    "df = df.set_index('id')\n",
    "df['start'] = pd.to_datetime(df['start']) # Starttijden converteren naar datetimes\n",
    "df['einde'] = pd.to_datetime(df['einde']) # Eindtijden converteren naar datetimes\n",
    "df['duur'] = df['einde'] - df['start'] # Hoe lang parkeert iedereen?"
   ]
  },
  {
   "cell_type": "markdown",
   "metadata": {
    "run_control": {}
   },
   "source": [
    "Vervolgens kijken we of we het correct is ingeladen:"
   ]
  },
  {
   "cell_type": "code",
   "execution_count": 78,
   "metadata": {
    "collapsed": false
   },
   "outputs": [
    {
     "data": {
      "text/html": [
       "<div>\n",
       "<table border=\"1\" class=\"dataframe\">\n",
       "  <thead>\n",
       "    <tr style=\"text-align: right;\">\n",
       "      <th></th>\n",
       "      <th>paal</th>\n",
       "      <th>start</th>\n",
       "      <th>einde</th>\n",
       "      <th>kosten</th>\n",
       "      <th>duur</th>\n",
       "    </tr>\n",
       "    <tr>\n",
       "      <th>id</th>\n",
       "      <th></th>\n",
       "      <th></th>\n",
       "      <th></th>\n",
       "      <th></th>\n",
       "      <th></th>\n",
       "    </tr>\n",
       "  </thead>\n",
       "  <tbody>\n",
       "    <tr>\n",
       "      <th>0</th>\n",
       "      <td>28115</td>\n",
       "      <td>2014-01-01 18:50:49</td>\n",
       "      <td>2014-01-02 11:05:37</td>\n",
       "      <td>3.57</td>\n",
       "      <td>16:14:48</td>\n",
       "    </tr>\n",
       "    <tr>\n",
       "      <th>1</th>\n",
       "      <td>28305</td>\n",
       "      <td>2014-01-01 18:52:01</td>\n",
       "      <td>2014-01-02 09:10:34</td>\n",
       "      <td>0.57</td>\n",
       "      <td>14:18:33</td>\n",
       "    </tr>\n",
       "    <tr>\n",
       "      <th>2</th>\n",
       "      <td>28222</td>\n",
       "      <td>2014-01-01 18:56:45</td>\n",
       "      <td>2014-01-02 09:05:00</td>\n",
       "      <td>0.29</td>\n",
       "      <td>14:08:15</td>\n",
       "    </tr>\n",
       "    <tr>\n",
       "      <th>3</th>\n",
       "      <td>28102</td>\n",
       "      <td>2014-01-01 19:03:29</td>\n",
       "      <td>2014-01-02 09:05:42</td>\n",
       "      <td>0.29</td>\n",
       "      <td>14:02:13</td>\n",
       "    </tr>\n",
       "    <tr>\n",
       "      <th>4</th>\n",
       "      <td>12208</td>\n",
       "      <td>2014-01-01 19:05:35</td>\n",
       "      <td>2014-01-02 07:00:30</td>\n",
       "      <td>2.21</td>\n",
       "      <td>11:54:55</td>\n",
       "    </tr>\n",
       "  </tbody>\n",
       "</table>\n",
       "</div>"
      ],
      "text/plain": [
       "     paal               start               einde  kosten     duur\n",
       "id                                                                \n",
       "0   28115 2014-01-01 18:50:49 2014-01-02 11:05:37    3.57 16:14:48\n",
       "1   28305 2014-01-01 18:52:01 2014-01-02 09:10:34    0.57 14:18:33\n",
       "2   28222 2014-01-01 18:56:45 2014-01-02 09:05:00    0.29 14:08:15\n",
       "3   28102 2014-01-01 19:03:29 2014-01-02 09:05:42    0.29 14:02:13\n",
       "4   12208 2014-01-01 19:05:35 2014-01-02 07:00:30    2.21 11:54:55"
      ]
     },
     "execution_count": 78,
     "metadata": {},
     "output_type": "execute_result"
    }
   ],
   "source": [
    "df.head()"
   ]
  },
  {
   "cell_type": "markdown",
   "metadata": {
    "run_control": {}
   },
   "source": [
    "## Starttijden\n",
    "Op welke tijden van de dag starten mensen met betaald parkeren? Met een distributie kan je dat onderzoeken:"
   ]
  },
  {
   "cell_type": "code",
   "execution_count": 79,
   "metadata": {
    "collapsed": false,
    "run_control": {}
   },
   "outputs": [
    {
     "data": {
      "text/plain": [
       "<matplotlib.axes._subplots.AxesSubplot at 0x22a0392b0>"
      ]
     },
     "execution_count": 79,
     "metadata": {},
     "output_type": "execute_result"
    },
    {
     "data": {
      "image/png": "[encoded data removed]",
      "text/plain": [
       "<matplotlib.figure.Figure at 0x1248f3908>"
      ]
     },
     "metadata": {},
     "output_type": "display_data"
    }
   ],
   "source": [
    "start = df['start']\n",
    "hours = start.map(lambda x: x.hour)\n",
    "hours.hist()"
   ]
  },
  {
   "cell_type": "markdown",
   "metadata": {
    "run_control": {}
   },
   "source": [
    "## Eindtijden\n",
    "Hetzelfde geld voor eindtijden... "
   ]
  },
  {
   "cell_type": "code",
   "execution_count": 80,
   "metadata": {
    "collapsed": false,
    "run_control": {}
   },
   "outputs": [
    {
     "data": {
      "text/plain": [
       "<matplotlib.axes._subplots.AxesSubplot at 0x134b36710>"
      ]
     },
     "execution_count": 80,
     "metadata": {},
     "output_type": "execute_result"
    },
    {
     "data": {
      "image/png": "[encoded data removed]",
      "text/plain": [
       "<matplotlib.figure.Figure at 0x234e7ea20>"
      ]
     },
     "metadata": {},
     "output_type": "display_data"
    }
   ],
   "source": [
    "einde = df['einde']\n",
    "hours = einde.map(lambda x: x.hour)\n",
    "hours.hist()"
   ]
  },
  {
   "cell_type": "markdown",
   "metadata": {
    "run_control": {}
   },
   "source": [
    "## Duur\n",
    "Hoe lang parkeren mensen dan eigen? Wat kunnen we daar van leren?"
   ]
  },
  {
   "cell_type": "code",
   "execution_count": 94,
   "metadata": {
    "collapsed": false,
    "run_control": {}
   },
   "outputs": [
    {
     "data": {
      "text/plain": [
       "<matplotlib.axes._subplots.AxesSubplot at 0x18cdcaf60>"
      ]
     },
     "execution_count": 94,
     "metadata": {},
     "output_type": "execute_result"
    },
    {
     "data": {
      "image/png": "[encoded data removed]",
      "text/plain": [
       "<matplotlib.figure.Figure at 0x18cd95f60>"
      ]
     },
     "metadata": {},
     "output_type": "display_data"
    }
   ],
   "source": [
    "duur = df['duur']\n",
    "hours = duur.map(lambda x: x / np.timedelta64(1, 'm'))\n",
    "hours = hours[hours > 0] # Filter negatives\n",
    "hours = hours[hours < 1440] # Filter longer then a day.\n",
    "hours.hist(bins=100)"
   ]
  },
  {
   "cell_type": "markdown",
   "metadata": {
    "run_control": {}
   },
   "source": [
    "Interessant! Van de distributie kan je al een hoop leren, zo zie je dat iedereen bijna altijd tegen een uur aan parkeert... Dat zijn de pieken die er bovenuit steken... En de bult op ongeveer 850 minuten, dat is dus vaak een gedurende de nacht... en de volgende ochtend weer vertrekken.."
   ]
  },
  {
   "cell_type": "markdown",
   "metadata": {
    "run_control": {}
   },
   "source": [
    "# Analyse van de kosten\n",
    "Ook de kosten van het parkeren zitten in het CSV bestand, eens kijken wat we daar van kunnen leren... Hoeveel betalen mensen ongeveer, en hoe is de distributie hier van?"
   ]
  },
  {
   "cell_type": "code",
   "execution_count": 95,
   "metadata": {
    "collapsed": false
   },
   "outputs": [
    {
     "data": {
      "text/plain": [
       "<matplotlib.axes._subplots.AxesSubplot at 0x1874b9240>"
      ]
     },
     "execution_count": 95,
     "metadata": {},
     "output_type": "execute_result"
    },
    {
     "data": {
      "image/png": "[encoded data removed]",
      "text/plain": [
       "<matplotlib.figure.Figure at 0x18cde7fd0>"
      ]
     },
     "metadata": {},
     "output_type": "display_data"
    }
   ],
   "source": [
    "kosten = df['kosten']\n",
    "kosten.hist(bins=50)"
   ]
  }
 ],
 "metadata": {
  "kernelspec": {
   "display_name": "Python 3",
   "language": "python",
   "name": "python3"
  },
  "language_info": {
   "codemirror_mode": {
    "name": "ipython",
    "version": 3
   },
   "file_extension": ".py",
   "mimetype": "text/x-python",
   "name": "python",
   "nbconvert_exporter": "python",
   "pygments_lexer": "ipython3",
   "version": "3.5.0"
  }
 },
 "nbformat": 4,
 "nbformat_minor": 0
}
